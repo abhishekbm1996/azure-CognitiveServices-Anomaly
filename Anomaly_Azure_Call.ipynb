{
  "nbformat": 4,
  "nbformat_minor": 0,
  "metadata": {
    "colab": {
      "name": "Anomaly_Azure_Call.ipynb",
      "provenance": [],
      "collapsed_sections": [],
      "authorship_tag": "ABX9TyMOi+FSoEyQBsmk6B4qFibw",
      "include_colab_link": true
    },
    "kernelspec": {
      "name": "python3",
      "display_name": "Python 3"
    }
  },
  "cells": [
    {
      "cell_type": "markdown",
      "metadata": {
        "id": "view-in-github",
        "colab_type": "text"
      },
      "source": [
        "<a href=\"https://colab.research.google.com/github/abhishekbm1996/azure-anomalyAPIcall-withpython/blob/main/Anomaly_Azure_Call.ipynb\" target=\"_parent\"><img src=\"https://colab.research.google.com/assets/colab-badge.svg\" alt=\"Open In Colab\"/></a>"
      ]
    },
    {
      "cell_type": "code",
      "metadata": {
        "id": "d9_eXRe-k2Ie"
      },
      "source": [
        "import os\n",
        "import requests\n",
        "import json"
      ],
      "execution_count": null,
      "outputs": []
    },
    {
      "cell_type": "code",
      "metadata": {
        "id": "9G8f4aMxmK2B"
      },
      "source": [
        "# URLs for anomaly detection with the Anomaly Detector API\n",
        "batch_detection_url = \"....\"\n",
        "latest_point_detection_url = \"....\"\n",
        "\n",
        "# This sample assumes you have created an environment variable for your key and endpoint\n",
        "endpoint = \"...\"\n",
        "subscription_key = \"...\"\n",
        "\n",
        "# Replace with a path to the JSON formatted time series data.\n",
        "data_location = \"...\""
      ],
      "execution_count": null,
      "outputs": []
    },
    {
      "cell_type": "code",
      "metadata": {
        "id": "0QXRAGO0o2rT"
      },
      "source": [
        "file_handler = open(data_location)\n",
        "json_data = json.load(file_handler)"
      ],
      "execution_count": null,
      "outputs": []
    },
    {
      "cell_type": "code",
      "metadata": {
        "id": "OUwQwwt4o62C"
      },
      "source": [
        "def send_request(endpoint, url, subscription_key, request_data):\n",
        "    headers = {'Content-Type': 'application/json', 'Ocp-Apim-Subscription-Key': subscription_key}\n",
        "    response = requests.post(endpoint+url, data=json.dumps(request_data), headers=headers)\n",
        "    return json.loads(response.content.decode(\"utf-8\"))"
      ],
      "execution_count": null,
      "outputs": []
    },
    {
      "cell_type": "code",
      "metadata": {
        "id": "fZWL0GIrpy2E"
      },
      "source": [
        "def detect_batch(request_data):\n",
        "    print(\"Detecting anomalies as a batch\")\n",
        "    # Send the request, and print the JSON result\n",
        "    result = send_request(endpoint, batch_detection_url, subscription_key, request_data)\n",
        "    print(json.dumps(result, indent=4))\n",
        "\n",
        "    if result.get('code') is not None:\n",
        "        print(\"Detection failed. ErrorCode:{}, ErrorMessage:{}\".format(result['code'], result['message']))\n",
        "    else:\n",
        "        # Find and display the positions of anomalies in the data set\n",
        "        anomalies = result[\"isAnomaly\"]\n",
        "        print(\"Anomalies detected in the following data positions:\")\n",
        "\n",
        "        for x in range(len(anomalies)):\n",
        "            if anomalies[x]:\n",
        "                print (x, request_data['series'][x]['value'])"
      ],
      "execution_count": null,
      "outputs": []
    },
    {
      "cell_type": "code",
      "metadata": {
        "id": "3zd4NYcSpz9G"
      },
      "source": [
        "def detect_latest(request_data):\n",
        "    print(\"Determining if latest data point is an anomaly\")\n",
        "    # send the request, and print the JSON result\n",
        "    result = send_request(endpoint, latest_point_detection_url, subscription_key, request_data)\n",
        "    print(json.dumps(result, indent=4))"
      ],
      "execution_count": null,
      "outputs": []
    },
    {
      "cell_type": "code",
      "metadata": {
        "id": "GcWP6zoVpU8o",
        "colab": {
          "base_uri": "https://localhost:8080/",
          "height": 204
        },
        "outputId": "59ce9cd0-e3fc-4350-c009-c832c2160bdd"
      },
      "source": [
        "detect_latest(json_data)"
      ],
      "execution_count": null,
      "outputs": [
        {
          "output_type": "stream",
          "text": [
            "Determining if latest data point is an anomaly\n",
            "{\n",
            "    \"expectedValue\": 2.3875809734709676,\n",
            "    \"isAnomaly\": true,\n",
            "    \"isNegativeAnomaly\": true,\n",
            "    \"isPositiveAnomaly\": false,\n",
            "    \"lowerMargin\": 0.0020165502741291697,\n",
            "    \"period\": 0,\n",
            "    \"suggestedWindow\": 1441,\n",
            "    \"upperMargin\": 0.0020165502741291697\n",
            "}\n"
          ],
          "name": "stdout"
        }
      ]
    },
    {
      "cell_type": "code",
      "metadata": {
        "id": "jg7kVj_L4Asl",
        "colab": {
          "base_uri": "https://localhost:8080/",
          "height": 35
        },
        "outputId": "ba4e31d2-366b-4ba3-c28d-5f846650a511"
      },
      "source": [
        "\"\""
      ],
      "execution_count": 1,
      "outputs": [
        {
          "output_type": "execute_result",
          "data": {
            "application/vnd.google.colaboratory.intrinsic+json": {
              "type": "string"
            },
            "text/plain": [
              "''"
            ]
          },
          "metadata": {
            "tags": []
          },
          "execution_count": 1
        }
      ]
    },
    {
      "cell_type": "code",
      "metadata": {
        "id": "kK6PXp7Zda31"
      },
      "source": [
        ""
      ],
      "execution_count": null,
      "outputs": []
    }
  ]
}